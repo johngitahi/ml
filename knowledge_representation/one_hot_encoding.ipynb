{
 "cells": [
  {
   "cell_type": "code",
   "execution_count": 1,
   "metadata": {
    "colab": {
     "base_uri": "https://localhost:8080/"
    },
    "id": "avsxHaXLLQS5",
    "outputId": "e219785c-b93b-4e43-b5fa-f0a50660739d"
   },
   "outputs": [
    {
     "name": "stdout",
     "output_type": "stream",
     "text": [
      "Original Data:\n",
      "   Color\n",
      "0    Red\n",
      "1  Green\n",
      "2   Blue\n",
      "3    Red\n",
      "4   Blue\n",
      "\n",
      "Transformed Data:\n",
      "   Color_Blue  Color_Green  Color_Red\n",
      "0         0.0          0.0        1.0\n",
      "1         0.0          1.0        0.0\n",
      "2         1.0          0.0        0.0\n",
      "3         0.0          0.0        1.0\n",
      "4         1.0          0.0        0.0\n"
     ]
    }
   ],
   "source": [
    "from sklearn.preprocessing import OneHotEncoder\n",
    "from sklearn.compose import ColumnTransformer\n",
    "from sklearn.pipeline import Pipeline\n",
    "\n",
    "# Sample data with a categorical variable 'Color'\n",
    "data = {'Color': ['Red', 'Green', 'Blue', 'Red', 'Blue']}\n",
    "\n",
    "# Create a DataFrame\n",
    "import pandas as pd\n",
    "df = pd.DataFrame(data)\n",
    "\n",
    "# Define the columns to be one-hot encoded\n",
    "categorical_cols = ['Color']\n",
    "\n",
    "# Create a ColumnTransformer to apply one-hot encoding to the specified columns\n",
    "preprocessor = ColumnTransformer(\n",
    "    transformers=[\n",
    "        ('onehot', OneHotEncoder(), categorical_cols)\n",
    "    ])\n",
    "\n",
    "# Create a pipeline with the specified preprocessor\n",
    "pipeline = Pipeline(steps=[('preprocessor', preprocessor)])\n",
    "\n",
    "# Fit and transform the data using the pipeline\n",
    "transformed_data = pipeline.fit_transform(df)\n",
    "\n",
    "# Convert the transformed data back to a DataFrame for visualization\n",
    "transformed_df = pd.DataFrame(transformed_data, columns=pipeline.named_steps['preprocessor'].named_transformers_['onehot'].get_feature_names_out(input_features=categorical_cols))\n",
    "\n",
    "# Display the original and transformed data\n",
    "print(\"Original Data:\")\n",
    "print(df)\n",
    "print(\"\\nTransformed Data:\")\n",
    "print(transformed_df)\n"
   ]
  },
  {
   "cell_type": "code",
   "execution_count": null,
   "metadata": {
    "id": "rQ6z2Ro0QjHf"
   },
   "outputs": [],
   "source": []
  }
 ],
 "metadata": {
  "colab": {
   "provenance": []
  },
  "kernelspec": {
   "display_name": "Python 3 (ipykernel)",
   "language": "python",
   "name": "python3"
  },
  "language_info": {
   "codemirror_mode": {
    "name": "ipython",
    "version": 3
   },
   "file_extension": ".py",
   "mimetype": "text/x-python",
   "name": "python",
   "nbconvert_exporter": "python",
   "pygments_lexer": "ipython3",
   "version": "3.11.5"
  }
 },
 "nbformat": 4,
 "nbformat_minor": 4
}
