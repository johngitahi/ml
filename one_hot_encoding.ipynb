{
  "nbformat": 4,
  "nbformat_minor": 0,
  "metadata": {
    "colab": {
      "provenance": []
    },
    "kernelspec": {
      "name": "python3",
      "display_name": "Python 3"
    },
    "language_info": {
      "name": "python"
    }
  },
  "cells": [
    {
      "cell_type": "code",
      "execution_count": 1,
      "metadata": {
        "colab": {
          "base_uri": "https://localhost:8080/"
        },
        "id": "avsxHaXLLQS5",
        "outputId": "e219785c-b93b-4e43-b5fa-f0a50660739d"
      },
      "outputs": [
        {
          "output_type": "stream",
          "name": "stdout",
          "text": [
            "Original Data:\n",
            "   Color\n",
            "0    Red\n",
            "1  Green\n",
            "2   Blue\n",
            "3    Red\n",
            "4   Blue\n",
            "\n",
            "Transformed Data:\n",
            "   Color_Blue  Color_Green  Color_Red\n",
            "0         0.0          0.0        1.0\n",
            "1         0.0          1.0        0.0\n",
            "2         1.0          0.0        0.0\n",
            "3         0.0          0.0        1.0\n",
            "4         1.0          0.0        0.0\n"
          ]
        }
      ],
      "source": [
        "from sklearn.preprocessing import OneHotEncoder\n",
        "from sklearn.compose import ColumnTransformer\n",
        "from sklearn.pipeline import Pipeline\n",
        "\n",
        "# Sample data with a categorical variable 'Color'\n",
        "data = {'Color': ['Red', 'Green', 'Blue', 'Red', 'Blue']}\n",
        "\n",
        "# Create a DataFrame\n",
        "import pandas as pd\n",
        "df = pd.DataFrame(data)\n",
        "\n",
        "# Define the columns to be one-hot encoded\n",
        "categorical_cols = ['Color']\n",
        "\n",
        "# Create a ColumnTransformer to apply one-hot encoding to the specified columns\n",
        "preprocessor = ColumnTransformer(\n",
        "    transformers=[\n",
        "        ('onehot', OneHotEncoder(), categorical_cols)\n",
        "    ])\n",
        "\n",
        "# Create a pipeline with the specified preprocessor\n",
        "pipeline = Pipeline(steps=[('preprocessor', preprocessor)])\n",
        "\n",
        "# Fit and transform the data using the pipeline\n",
        "transformed_data = pipeline.fit_transform(df)\n",
        "\n",
        "# Convert the transformed data back to a DataFrame for visualization\n",
        "transformed_df = pd.DataFrame(transformed_data, columns=pipeline.named_steps['preprocessor'].named_transformers_['onehot'].get_feature_names_out(input_features=categorical_cols))\n",
        "\n",
        "# Display the original and transformed data\n",
        "print(\"Original Data:\")\n",
        "print(df)\n",
        "print(\"\\nTransformed Data:\")\n",
        "print(transformed_df)\n"
      ]
    },
    {
      "cell_type": "code",
      "source": [
        "# prompt: show me how to use one hot loading\n",
        "\n",
        "\n",
        "# Import the necessary libraries\n",
        "from sklearn.preprocessing import OneHotEncoder\n",
        "from sklearn.compose import ColumnTransformer\n",
        "from sklearn.pipeline import Pipeline\n",
        "import pandas as pd\n",
        "\n",
        "# Sample data with a categorical variable 'Color'\n",
        "data = {'Color': ['Red', 'Green', 'Blue', 'Red', 'Blue']}\n",
        "\n",
        "# Create a DataFrame\n",
        "df = pd.DataFrame(data)\n",
        "\n",
        "# Define the columns to be one-hot encoded\n",
        "categorical_cols = ['Color']\n",
        "\n",
        "# Create a ColumnTransformer to apply one-hot encoding to the specified columns\n",
        "preprocessor = ColumnTransformer(\n",
        "    transformers=[\n",
        "        ('onehot', OneHotEncoder(), categorical_cols)\n",
        "    ])\n",
        "\n",
        "# Create a pipeline with the specified preprocessor\n",
        "pipeline = Pipeline(steps=[('preprocessor', preprocessor)])\n",
        "\n",
        "# Fit and transform the data using the pipeline\n",
        "transformed_data = pipeline.fit_transform(df)\n",
        "\n",
        "# Convert the transformed data back to a DataFrame for visualization\n",
        "transformed_df = pd.DataFrame(transformed_data, columns=pipeline.named_steps['preprocessor'].named_transformers_['onehot'].get_feature_names_out(input_features=categorical_cols))\n",
        "\n",
        "# Display the original and transformed data\n",
        "print(\"Original Data:\")\n",
        "print(df)\n",
        "print(\"\\nTransformed Data:\")\n",
        "print(transformed_df)\n"
      ],
      "metadata": {
        "colab": {
          "base_uri": "https://localhost:8080/"
        },
        "id": "9VwuCAb1O3pE",
        "outputId": "d079ce3c-f47e-438f-8d58-805f472dfaa4"
      },
      "execution_count": 2,
      "outputs": [
        {
          "output_type": "stream",
          "name": "stdout",
          "text": [
            "Original Data:\n",
            "   Color\n",
            "0    Red\n",
            "1  Green\n",
            "2   Blue\n",
            "3    Red\n",
            "4   Blue\n",
            "\n",
            "Transformed Data:\n",
            "   Color_Blue  Color_Green  Color_Red\n",
            "0         0.0          0.0        1.0\n",
            "1         0.0          1.0        0.0\n",
            "2         1.0          0.0        0.0\n",
            "3         0.0          0.0        1.0\n",
            "4         1.0          0.0        0.0\n"
          ]
        }
      ]
    },
    {
      "cell_type": "code",
      "source": [],
      "metadata": {
        "id": "rQ6z2Ro0QjHf"
      },
      "execution_count": null,
      "outputs": []
    }
  ]
}